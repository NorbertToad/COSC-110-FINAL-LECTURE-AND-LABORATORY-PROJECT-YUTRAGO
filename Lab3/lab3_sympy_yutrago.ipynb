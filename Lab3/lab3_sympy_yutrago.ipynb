{
  "nbformat": 4,
  "nbformat_minor": 0,
  "metadata": {
    "colab": {
      "provenance": []
    },
    "kernelspec": {
      "name": "python3",
      "display_name": "Python 3"
    },
    "language_info": {
      "name": "python"
    }
  },
  "cells": [
    {
      "cell_type": "markdown",
      "source": [
        "Laboratory Activity #3: Introduction to SymPy\n",
        "\n",
        "Objectives:\n",
        "Apply basic symbolic calculations using SymPy\n",
        "\n",
        "Task # 1: Include all necessary sympy modules"
      ],
      "metadata": {
        "id": "nPdA0LGD0pnW"
      }
    },
    {
      "cell_type": "code",
      "execution_count": 1,
      "metadata": {
        "id": "xYsYDTI_0mu8"
      },
      "outputs": [],
      "source": [
        "from sympy import *\n",
        "init_printing()"
      ]
    },
    {
      "cell_type": "code",
      "source": [
        "x, y = symbols('x y')"
      ],
      "metadata": {
        "id": "dHoqYY3l2Bpu"
      },
      "execution_count": 6,
      "outputs": []
    },
    {
      "cell_type": "markdown",
      "source": [
        "Task # 2: Basic calculation\n",
        "Solve for the following:\n",
        "\n",
        "* 53+10√2\n",
        "* 50−−√×59−−√"
      ],
      "metadata": {
        "id": "oUz1VM9d0ypA"
      }
    },
    {
      "cell_type": "code",
      "source": [
        "expr1 = 53 + 10 * sqrt(2)\n",
        "pprint(expr1)\n",
        "expr1.evalf()"
      ],
      "metadata": {
        "colab": {
          "base_uri": "https://localhost:8080/",
          "height": 55
        },
        "id": "n7529Ix70ztl",
        "outputId": "f9eca073-da48-49e8-f66f-2d99eab6413b"
      },
      "execution_count": 3,
      "outputs": [
        {
          "output_type": "stream",
          "name": "stdout",
          "text": [
            "10⋅√2 + 53\n"
          ]
        },
        {
          "output_type": "execute_result",
          "data": {
            "text/plain": [
              "67.1421356237310"
            ],
            "text/latex": "$\\displaystyle 67.142135623731$"
          },
          "metadata": {},
          "execution_count": 3
        }
      ]
    },
    {
      "cell_type": "code",
      "source": [
        "expr2 = sqrt(50) * sqrt(59)\n",
        "pprint(expr2)\n",
        "simplify(expr2)\n",
        "expr2.evalf()"
      ],
      "metadata": {
        "colab": {
          "base_uri": "https://localhost:8080/",
          "height": 55
        },
        "id": "AcXDRNTJ1aRW",
        "outputId": "6bd50d2c-8eae-450d-95f0-67a4f94dbb6c"
      },
      "execution_count": 32,
      "outputs": [
        {
          "output_type": "stream",
          "name": "stdout",
          "text": [
            "5⋅√118\n"
          ]
        },
        {
          "output_type": "execute_result",
          "data": {
            "text/plain": [
              "54.3139024560011"
            ],
            "text/latex": "$\\displaystyle 54.3139024560011$"
          },
          "metadata": {},
          "execution_count": 32
        }
      ]
    },
    {
      "cell_type": "markdown",
      "source": [
        "Task # 3: Symbols\n",
        "Create the equation for the following using Symbols:\n",
        "\n",
        "* 2x+3y=12\n",
        "* x−y=4"
      ],
      "metadata": {
        "id": "4_LVuMeq1lsI"
      }
    },
    {
      "cell_type": "code",
      "source": [
        "eq1 = Eq(2*x + 3*y, 12)\n",
        "eq2 = Eq(x - y, 4)\n",
        "print(\"Equation 1:\")\n",
        "pprint(eq1)\n",
        "print(\"\\nEquation 2:\")\n",
        "pprint(eq2)"
      ],
      "metadata": {
        "colab": {
          "base_uri": "https://localhost:8080/"
        },
        "id": "J5HXT57Z1gCz",
        "outputId": "4901b65f-6223-4311-97a0-76898e10eaec"
      },
      "execution_count": 31,
      "outputs": [
        {
          "output_type": "stream",
          "name": "stdout",
          "text": [
            "Equation 1:\n",
            "2⋅x + 3⋅y = 12\n",
            "\n",
            "Equation 2:\n",
            "x - y = 4\n"
          ]
        }
      ]
    },
    {
      "cell_type": "markdown",
      "source": [
        "Task # 3: Simplification\n",
        "Simplify the following equations using the simplify method\n",
        "\n",
        "* x2+2x+1x+1\n",
        "* 1−11+1x1+1x"
      ],
      "metadata": {
        "id": "PAnco_Fa3mSe"
      }
    },
    {
      "cell_type": "code",
      "source": [
        "e1 = (x**2 + 2*x + 1*x + 1)\n",
        "e2 = (1 - 11 + 1*1 + 1*x)\n",
        "\n",
        "es1 = simplify(e1)\n",
        "es2 = simplify(e2)\n",
        "\n",
        "print(\"Simplified Expression 1:\")\n",
        "pprint(es1)\n",
        "\n",
        "print(\"Simplified Expression 2:\")\n",
        "pprint(es2)"
      ],
      "metadata": {
        "colab": {
          "base_uri": "https://localhost:8080/"
        },
        "id": "9kqGCGsE3lTm",
        "outputId": "f9ab9e54-c827-4056-9a99-08832d038355"
      },
      "execution_count": 34,
      "outputs": [
        {
          "output_type": "stream",
          "name": "stdout",
          "text": [
            "Simplified Expression 1:\n",
            " 2          \n",
            "x  + 3⋅x + 1\n",
            "Simplified Expression 2:\n",
            "x - 9\n"
          ]
        }
      ]
    },
    {
      "cell_type": "markdown",
      "source": [
        "Task # 4: Expansion\n",
        "Expand the following expressions using the expand method\n",
        "\n",
        "* (2x+2)2\n",
        "* (2x+y)(x−2y)"
      ],
      "metadata": {
        "id": "cSNUaP3L57x5"
      }
    },
    {
      "cell_type": "code",
      "source": [
        "pand = ((2*x + 2)**2)\n",
        "pand2 = ((2*x + y)*(x - 2*y))\n",
        "\n",
        "expand1 = expand(pand)\n",
        "expand2 = expand(pand2)\n",
        "\n",
        "print(\"Expanded Expression 1:\")\n",
        "pprint(expand1)\n",
        "\n",
        "print(\"Expanded Expression 2:\")\n",
        "pprint(expand2)"
      ],
      "metadata": {
        "colab": {
          "base_uri": "https://localhost:8080/"
        },
        "id": "qwtDw6Op6CJb",
        "outputId": "2f9314db-98dc-4705-abd0-e5bce05fb887"
      },
      "execution_count": 35,
      "outputs": [
        {
          "output_type": "stream",
          "name": "stdout",
          "text": [
            "Expanded Expression 1:\n",
            "   2          \n",
            "4⋅x  + 8⋅x + 4\n",
            "Expanded Expression 2:\n",
            "   2              2\n",
            "2⋅x  - 3⋅x⋅y - 2⋅y \n"
          ]
        }
      ]
    }
  ]
}